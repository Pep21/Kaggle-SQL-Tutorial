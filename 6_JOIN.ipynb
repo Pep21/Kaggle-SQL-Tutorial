{
  "cells": [
    {
      "metadata": {
        "_uuid": "1a4e4095d0aa8db597c7aab221dca56752f7a39b"
      },
      "cell_type": "markdown",
      "source": "# Get Started\n\nAfter forking this notebook, run the code in the following cell:"
    },
    {
      "metadata": {
        "trusted": true,
        "_uuid": "f6ef073f89558eeb5d421de99c8f11b77ff029c0"
      },
      "cell_type": "code",
      "source": "# import package with helper functions \nimport bq_helper\n\n# create a helper object for this dataset\ngithub = bq_helper.BigQueryHelper(active_project=\"bigquery-public-data\",\n                                              dataset_name=\"github_repos\")\n#github.list_tables()\ngithub.head(\"sample_commits\")#sample_repos,sample_files,sample_commits, sample_contents",
      "execution_count": 19,
      "outputs": [
        {
          "output_type": "execute_result",
          "execution_count": 19,
          "data": {
            "text/plain": "                                     commit   ...    encoding\n0  3eca86e75ec7a7d4b9a9c8091b11676f7bd2a39f   ...        None\n1  7158627686f02319c50c8d9d78f75d4c8d126ff2   ...        None\n2  9732cafd9dc0206479be919baf0067239f0a63ca   ...        None\n3  4702abd3f9728893ad5b0f4389e1902588510459   ...        None\n4  57bd4b91a6cfc5bad4c5d829ef85293ea63643ea   ...        None\n\n[5 rows x 12 columns]",
            "text/html": "<div>\n<style scoped>\n    .dataframe tbody tr th:only-of-type {\n        vertical-align: middle;\n    }\n\n    .dataframe tbody tr th {\n        vertical-align: top;\n    }\n\n    .dataframe thead th {\n        text-align: right;\n    }\n</style>\n<table border=\"1\" class=\"dataframe\">\n  <thead>\n    <tr style=\"text-align: right;\">\n      <th></th>\n      <th>commit</th>\n      <th>tree</th>\n      <th>parent</th>\n      <th>author</th>\n      <th>committer</th>\n      <th>subject</th>\n      <th>message</th>\n      <th>trailer</th>\n      <th>difference</th>\n      <th>difference_truncated</th>\n      <th>repo_name</th>\n      <th>encoding</th>\n    </tr>\n  </thead>\n  <tbody>\n    <tr>\n      <th>0</th>\n      <td>3eca86e75ec7a7d4b9a9c8091b11676f7bd2a39f</td>\n      <td>8e1b4380409a85a922ee0d3f622b5dd4d16bcfad</td>\n      <td>[104a0c02e8b1936c049e18a6d4e4ab040fb61213]</td>\n      <td>{'name': 'Mark Rutland', 'email': '1db9dd262be...</td>\n      <td>{'name': 'Catalin Marinas', 'email': '15ce75b2...</td>\n      <td>arm64: Remove fixmap include fragility</td>\n      <td>arm64: Remove fixmap include fragility\\n\\nThe ...</td>\n      <td>[{'key': 'Signed-off-by', 'value': 'Mark Rutla...</td>\n      <td>[{'old_mode': 33188, 'new_mode': 33188, 'old_p...</td>\n      <td>None</td>\n      <td>torvalds/linux</td>\n      <td>None</td>\n    </tr>\n    <tr>\n      <th>1</th>\n      <td>7158627686f02319c50c8d9d78f75d4c8d126ff2</td>\n      <td>3b4d781bd966f07cad1b67b137f0ff8b89430e9a</td>\n      <td>[66aa8d6a145b6a66566b4fce219cc56c3d0e01c3]</td>\n      <td>{'name': 'Will Deacon', 'email': 'b913f13ef92a...</td>\n      <td>{'name': 'Catalin Marinas', 'email': '15ce75b2...</td>\n      <td>arm64: percpu: implement optimised pcpu access...</td>\n      <td>arm64: percpu: implement optimised pcpu access...</td>\n      <td>[{'key': 'Signed-off-by', 'value': 'Will Deaco...</td>\n      <td>[{'old_mode': 33188, 'new_mode': 33188, 'old_p...</td>\n      <td>None</td>\n      <td>torvalds/linux</td>\n      <td>None</td>\n    </tr>\n    <tr>\n      <th>2</th>\n      <td>9732cafd9dc0206479be919baf0067239f0a63ca</td>\n      <td>c8878035ac9cb6dce592957f12dc1723a583989d</td>\n      <td>[f3c003f72dfb2497056bcbb864885837a1968ed5]</td>\n      <td>{'name': 'Jiang Liu', 'email': 'c745fa7b96fe79...</td>\n      <td>{'name': 'Catalin Marinas', 'email': '15ce75b2...</td>\n      <td>arm64, jump label: optimize jump label impleme...</td>\n      <td>arm64, jump label: optimize jump label impleme...</td>\n      <td>[{'key': 'Reviewed-by', 'value': 'Will Deacon ...</td>\n      <td>[{'old_mode': 33188, 'new_mode': 33188, 'old_p...</td>\n      <td>None</td>\n      <td>torvalds/linux</td>\n      <td>None</td>\n    </tr>\n    <tr>\n      <th>3</th>\n      <td>4702abd3f9728893ad5b0f4389e1902588510459</td>\n      <td>32926e7c55ef585d9b9c174a0e5f9ed13ed6bf7e</td>\n      <td>[ddf28352b80c86754a6424e3a61e8bdf9213b3c7]</td>\n      <td>{'name': 'Nicolas Pitre', 'email': '408789a210...</td>\n      <td>{'name': 'Arnd Bergmann', 'email': 'f2c659f019...</td>\n      <td>ARM: mach-nuc93x: delete</td>\n      <td>ARM: mach-nuc93x: delete\\n\\nThis architecture ...</td>\n      <td>[{'key': 'Signed-off-by', 'value': 'Nicolas Pi...</td>\n      <td>[{'old_mode': 33188, 'new_mode': 33188, 'old_p...</td>\n      <td>None</td>\n      <td>torvalds/linux</td>\n      <td>None</td>\n    </tr>\n    <tr>\n      <th>4</th>\n      <td>57bd4b91a6cfc5bad4c5d829ef85293ea63643ea</td>\n      <td>2ffc2066eb7638e185663e9d849663403229d4e5</td>\n      <td>[f74c95c20bad8e183e41283475f68a3e7b247af4]</td>\n      <td>{'name': 'Ben Dooks', 'email': '1177f64998f284...</td>\n      <td>{'name': 'Ben Dooks', 'email': '1177f64998f284...</td>\n      <td>[ARM] S3C24XX: Movev udc headers to arch/arm/p...</td>\n      <td>[ARM] S3C24XX: Movev udc headers to arch/arm/p...</td>\n      <td>[{'key': 'Signed-off-by', 'value': 'Ben Dooks ...</td>\n      <td>[{'old_mode': 33188, 'new_mode': 33188, 'old_p...</td>\n      <td>None</td>\n      <td>torvalds/linux</td>\n      <td>None</td>\n    </tr>\n  </tbody>\n</table>\n</div>"
          },
          "metadata": {}
        }
      ]
    },
    {
      "metadata": {
        "_uuid": "3c099edebc77b1060333faab526e73dc61f81cf5"
      },
      "cell_type": "markdown",
      "source": "Then write the code to answer the question below"
    },
    {
      "metadata": {
        "_cell_guid": "b1076dfc-b9ad-4769-8c92-a6c4dae69d19",
        "_uuid": "8f2839f25d086af736a60e9eeb907d3b93b6e0e5"
      },
      "cell_type": "markdown",
      "source": "# Question\n\n#### 1)  How many commits (recorded in the \"sample_commits\" table) have been made in repos written in the Python programming language? (I'm looking for the number of commits per repo for all the repos written in Python.\n* You'll want to JOIN the sample_files and sample_commits questions to answer this.\n* **Hint:** You can figure out which files are written in Python by filtering results from the \"sample_files\" table using `WHERE path LIKE '%.py'`. This will return results where the \"path\" column ends in the text \".py\", which is one way to identify which files have Python code."
    },
    {
      "metadata": {
        "_cell_guid": "79c7e3d0-c299-4dcb-8224-4455121ee9b0",
        "_uuid": "d629ff2d2480ee46fbb7e2d37f6b5fab8052498a",
        "trusted": true
      },
      "cell_type": "code",
      "source": "# Your code here\nquery = (\"\"\"\n        -- Select all the columns we want in our joined table\n        SELECT sf.repo_name, COUNT(sc.commit) as number_of_commits\n        FROM `bigquery-public-data.github_repos.sample_files` as sf\n        -- Table to merge into sample_files\n        INNER JOIN `bigquery-public-data.github_repos.sample_commits` as sc\n            ON sf.repo_name = sc.repo_name\n        WHERE sf.path LIKE '%.py'\n        GROUP BY sf.repo_name\n        ORDER BY number_of_commits DESC\n        \"\"\")\n\n\nfile_count_by_license = github.query_to_pandas_safe(query, max_gb_scanned=6)\nprint(file_count_by_license)",
      "execution_count": null,
      "outputs": []
    },
    {
      "metadata": {
        "_cell_guid": "7a5d8c3b-86d6-4c5c-bdd1-7df1bc96a0bd",
        "_uuid": "71bf031898b72c4fe1b1e8f66581b3fa135de12d"
      },
      "cell_type": "markdown",
      "source": "# Feedback\nBring any questions or feedback to the [Learn Discussion Forum](kaggle.com/learn-forum).\n\n# Congratulations\nBy now, you know all the key components to use BigQuery and SQL effectively.\n\nWant to go play with your new powers?  Kaggle has BigQuery datasets available [here](https://www.kaggle.com/datasets?filetype=bigQuery)."
    }
  ],
  "metadata": {
    "kernelspec": {
      "display_name": "Python 3",
      "language": "python",
      "name": "python3"
    },
    "language_info": {
      "name": "python",
      "version": "3.6.6",
      "mimetype": "text/x-python",
      "codemirror_mode": {
        "name": "ipython",
        "version": 3
      },
      "pygments_lexer": "ipython3",
      "nbconvert_exporter": "python",
      "file_extension": ".py"
    }
  },
  "nbformat": 4,
  "nbformat_minor": 1
}