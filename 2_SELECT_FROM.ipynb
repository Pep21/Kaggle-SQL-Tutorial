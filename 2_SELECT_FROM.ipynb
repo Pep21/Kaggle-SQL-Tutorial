{
  "cells": [
    {
      "metadata": {
        "_uuid": "8f2839f25d086af736a60e9eeb907d3b93b6e0e5",
        "_cell_guid": "b1076dfc-b9ad-4769-8c92-a6c4dae69d19"
      },
      "cell_type": "markdown",
      "source": "# Get Started\nFork this notebook by hitting the blue \"Fork Notebook\" button at the top of this page.  \"Forking\" makes a copy that you can edit on your own without changing the original.\n\nAfter forking this notebook, run the code in the following cell."
    },
    {
      "metadata": {
        "_uuid": "10e9310686ffa8666fddf643693d27bf6c2da62f",
        "_cell_guid": "581115e3-6443-4d88-aebc-2b7b64e10312",
        "trusted": true
      },
      "cell_type": "code",
      "source": "# import package with helper functions \nimport bq_helper\n\n# create a helper object for this dataset\nopen_aq = bq_helper.BigQueryHelper(active_project=\"bigquery-public-data\",\n                                   dataset_name=\"openaq\")\n\n# print all the tables in this dataset (there's only one!)\nopen_aq.list_tables()\nopen_aq.head(\"global_air_quality\")",
      "execution_count": 10,
      "outputs": [
        {
          "output_type": "execute_result",
          "execution_count": 10,
          "data": {
            "text/plain": "             location          ...           averaged_over_in_hours\n0        Mobile_Plain          ...                              1.0\n1        Plain_Mobile          ...                              1.0\n2  Leavenworth_Mobile          ...                              1.0\n3     Cle Elum_Mobile          ...                              1.0\n4     Mobile_Cle Elum          ...                              1.0\n\n[5 rows x 11 columns]",
            "text/html": "<div>\n<style scoped>\n    .dataframe tbody tr th:only-of-type {\n        vertical-align: middle;\n    }\n\n    .dataframe tbody tr th {\n        vertical-align: top;\n    }\n\n    .dataframe thead th {\n        text-align: right;\n    }\n</style>\n<table border=\"1\" class=\"dataframe\">\n  <thead>\n    <tr style=\"text-align: right;\">\n      <th></th>\n      <th>location</th>\n      <th>city</th>\n      <th>country</th>\n      <th>pollutant</th>\n      <th>value</th>\n      <th>timestamp</th>\n      <th>unit</th>\n      <th>source_name</th>\n      <th>latitude</th>\n      <th>longitude</th>\n      <th>averaged_over_in_hours</th>\n    </tr>\n  </thead>\n  <tbody>\n    <tr>\n      <th>0</th>\n      <td>Mobile_Plain</td>\n      <td>007</td>\n      <td>US</td>\n      <td>pm25</td>\n      <td>151.0</td>\n      <td>2018-08-15 13:00:00+00:00</td>\n      <td>µg/m³</td>\n      <td>AirNow</td>\n      <td>47.768566</td>\n      <td>-120.66451</td>\n      <td>1.0</td>\n    </tr>\n    <tr>\n      <th>1</th>\n      <td>Plain_Mobile</td>\n      <td>007</td>\n      <td>US</td>\n      <td>pm25</td>\n      <td>0.0</td>\n      <td>2018-11-05 18:00:00+00:00</td>\n      <td>µg/m³</td>\n      <td>AirNow</td>\n      <td>47.768630</td>\n      <td>-120.66456</td>\n      <td>1.0</td>\n    </tr>\n    <tr>\n      <th>2</th>\n      <td>Leavenworth_Mobile</td>\n      <td>007</td>\n      <td>US</td>\n      <td>pm25</td>\n      <td>2.0</td>\n      <td>2018-11-05 18:00:00+00:00</td>\n      <td>µg/m³</td>\n      <td>AirNow</td>\n      <td>47.558517</td>\n      <td>-120.67275</td>\n      <td>1.0</td>\n    </tr>\n    <tr>\n      <th>3</th>\n      <td>Cle Elum_Mobile</td>\n      <td>037</td>\n      <td>US</td>\n      <td>pm25</td>\n      <td>0.0</td>\n      <td>2018-11-05 18:00:00+00:00</td>\n      <td>µg/m³</td>\n      <td>AirNow</td>\n      <td>47.197620</td>\n      <td>-120.95829</td>\n      <td>1.0</td>\n    </tr>\n    <tr>\n      <th>4</th>\n      <td>Mobile_Cle Elum</td>\n      <td>037</td>\n      <td>US</td>\n      <td>pm25</td>\n      <td>62.0</td>\n      <td>2018-08-21 13:00:00+00:00</td>\n      <td>µg/m³</td>\n      <td>AirNow</td>\n      <td>47.197598</td>\n      <td>-120.95827</td>\n      <td>1.0</td>\n    </tr>\n  </tbody>\n</table>\n</div>"
          },
          "metadata": {}
        }
      ]
    },
    {
      "metadata": {
        "_uuid": "40f9f29f2ff5f355747bcd8ddb83bf5beecdb04e",
        "_cell_guid": "6c5a2cf7-e634-49fe-8f66-fec2386128e2"
      },
      "cell_type": "markdown",
      "source": "Then write and run the code to answer the questions below."
    },
    {
      "metadata": {
        "_uuid": "e0c53920e3b893930976a772c17f67f9781087ec",
        "_cell_guid": "00f8161f-9d76-4740-b6b1-d245b00f4587"
      },
      "cell_type": "markdown",
      "source": "# Question\n\n#### 1) Which countries use a unit other than ppm to measure any type of pollution? \n(Hint: to get rows where the value *isn't* something, use \"!=\")"
    },
    {
      "metadata": {
        "_uuid": "d629ff2d2480ee46fbb7e2d37f6b5fab8052498a",
        "_cell_guid": "79c7e3d0-c299-4dcb-8224-4455121ee9b0",
        "trusted": true
      },
      "cell_type": "code",
      "source": "# Your Code Goes Here\nquery=\"\"\"SELECT COUNT(pollutant) AS Pollutant, country\nFROM `bigquery-public-data.openaq.global_air_quality`\nWHERE pollutant != \"ppm\"\nGROUP BY country\nORDER BY Pollutant DESC\n\n\n\n\"\"\"\ncounty_ppm = open_aq.query_to_pandas_safe(query)\nprint(county_ppm.head())",
      "execution_count": 19,
      "outputs": [
        {
          "output_type": "stream",
          "text": "   Pollutant country\n0       7895      CN\n1       3486      US\n2       1901      ES\n3       1594      FR\n4       1402      DE\n",
          "name": "stdout"
        }
      ]
    },
    {
      "metadata": {
        "_uuid": "a527d39f5e9e31ae5476505249d1136558e97ede",
        "_cell_guid": "f50aa855-5ae4-4dbd-a7f4-1c0940a76e41"
      },
      "cell_type": "markdown",
      "source": "#### 2) Which pollutants have a value of exactly 0?"
    },
    {
      "metadata": {
        "_uuid": "ac2253ac8ff931cf984f4c80f4fee1aafaa71789",
        "_cell_guid": "0bfeb274-f8ed-4710-a6db-e1e6457e78c4",
        "trusted": true
      },
      "cell_type": "code",
      "source": "# Your Code Goes Here\n\nquery=\"\"\"SELECT pollutant \nFROM `bigquery-public-data.openaq.global_air_quality`\nWHERE value = 0\n\n\"\"\"\ncounty_ppm = open_aq.query_to_pandas_safe(query)\nprint(county_ppm.head())",
      "execution_count": null,
      "outputs": []
    },
    {
      "metadata": {
        "_uuid": "2601df8b4255ca1087f794e6f39ca04107e93de6",
        "_cell_guid": "3b323b31-ee71-466f-a328-3b6f83598878"
      },
      "cell_type": "markdown",
      "source": "# Keep Going\nAfter finishing this exercise, click [here](https://www.kaggle.com/dansbecker/group-by-having-count/).  You will learn about the **GROUP BY** command and its extensions.  This is especially valuable in large datasets like what you find in BigQuery.\n\n# Help and Feedback \nBring any comments or questions to the [Learn Discussion Forum](https://www.kaggle.com/learn-forum).\n\nIf you want comments or help on your code, make it \"public\" first using the \"Settings\" tab on this page.\n\n---\n\n*This tutorial is part of the [SQL Series](https://www.kaggle.com/learn/sql) on Kaggle Learn.*"
    }
  ],
  "metadata": {
    "kernelspec": {
      "display_name": "Python 3",
      "language": "python",
      "name": "python3"
    },
    "language_info": {
      "name": "python",
      "version": "3.6.6",
      "mimetype": "text/x-python",
      "codemirror_mode": {
        "name": "ipython",
        "version": 3
      },
      "pygments_lexer": "ipython3",
      "nbconvert_exporter": "python",
      "file_extension": ".py"
    }
  },
  "nbformat": 4,
  "nbformat_minor": 1
}