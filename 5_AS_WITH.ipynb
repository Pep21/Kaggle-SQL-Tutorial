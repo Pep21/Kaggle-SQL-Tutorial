{
  "cells": [
    {
      "metadata": {
        "_cell_guid": "c00aa938-286a-461b-8fbd-3486b3188d38",
        "_uuid": "118088bc1f65d8030a50882edcdca039a70d6b4a"
      },
      "cell_type": "markdown",
      "source": "# Get Started\n\nAfter forking this notebook, run the code in the following cell:"
    },
    {
      "metadata": {
        "_cell_guid": "fafbc62b-2cf1-4d94-919b-f236e5fad3b2",
        "_uuid": "424a5ab971bbe2d7aec8fb83d76307d16095ad41",
        "trusted": true
      },
      "cell_type": "code",
      "source": "# import package with helper functions \nimport bq_helper\n\n# create a helper object for this dataset\nbitcoin_blockchain = bq_helper.BigQueryHelper(active_project=\"bigquery-public-data\",\n                                              dataset_name=\"bitcoin_blockchain\")\n#bitcoin_blockchain.list_tables()\nbitcoin_blockchain.head(\"transactions\")",
      "execution_count": 5,
      "outputs": [
        {
          "output_type": "execute_result",
          "execution_count": 5,
          "data": {
            "text/plain": "       timestamp    ...     work_error\n0  1483539642000    ...           None\n1  1522805723000    ...           None\n2  1509402676000    ...           None\n3  1410133195000    ...           None\n4  1509387183000    ...           None\n\n[5 rows x 11 columns]",
            "text/html": "<div>\n<style scoped>\n    .dataframe tbody tr th:only-of-type {\n        vertical-align: middle;\n    }\n\n    .dataframe tbody tr th {\n        vertical-align: top;\n    }\n\n    .dataframe thead th {\n        text-align: right;\n    }\n</style>\n<table border=\"1\" class=\"dataframe\">\n  <thead>\n    <tr style=\"text-align: right;\">\n      <th></th>\n      <th>timestamp</th>\n      <th>transaction_id</th>\n      <th>inputs</th>\n      <th>outputs</th>\n      <th>block_id</th>\n      <th>previous_block</th>\n      <th>merkle_root</th>\n      <th>nonce</th>\n      <th>version</th>\n      <th>work_terahash</th>\n      <th>work_error</th>\n    </tr>\n  </thead>\n  <tbody>\n    <tr>\n      <th>0</th>\n      <td>1483539642000</td>\n      <td>b7a50c713502f593cc8fb53c5dca2ec3dea2bc01a8a27b...</td>\n      <td>[{'input_script_bytes': b\"G0D\\x02 \\x02\\xb2\\xa7...</td>\n      <td>[{'output_satoshis': 18923250, 'output_script_...</td>\n      <td>0000000000000000015dcc0974a23d7e1c49fe67c7f9df...</td>\n      <td>000000000000000001e029588a9188df2e745708e5c351...</td>\n      <td>e1be49dcbdde16a8f9ed99cccd1155652680f30b7b8a05...</td>\n      <td>3924848582</td>\n      <td>536870912</td>\n      <td>13644821101</td>\n      <td>None</td>\n    </tr>\n    <tr>\n      <th>1</th>\n      <td>1522805723000</td>\n      <td>25a909578b1c790f7eacac32fbe862781006bf02dc71b4...</td>\n      <td>[{'input_script_bytes': b'\\x16\\x00\\x14\\x8c\\xc5...</td>\n      <td>[{'output_satoshis': 75022438, 'output_script_...</td>\n      <td>00000000000000000013aa0c94a67c0058edda237ce554...</td>\n      <td>00000000000000000011d7d43ca4a505477dc31b951b40...</td>\n      <td>e61b7c850591bc6ca2c9a3f9314976361d76a47bd03c91...</td>\n      <td>2388667661</td>\n      <td>536870912</td>\n      <td>150801203533</td>\n      <td>None</td>\n    </tr>\n    <tr>\n      <th>2</th>\n      <td>1509402676000</td>\n      <td>7937eb8e7a366d397b4820902f72ec812ad9a1bf8dd47f...</td>\n      <td>[{'input_script_bytes': b\"G0D\\x02 az\\x00\\xfc\\x...</td>\n      <td>[{'output_satoshis': 20447119, 'output_script_...</td>\n      <td>000000000000000000514d42da2e35ac90b1647b92a8d5...</td>\n      <td>0000000000000000004bc83416d7efa70ac60e2557ace1...</td>\n      <td>7abe0290e895a374dba2d84065bbac6d0449fb509ba53b...</td>\n      <td>630498515</td>\n      <td>536870912</td>\n      <td>62399945525</td>\n      <td>None</td>\n    </tr>\n    <tr>\n      <th>3</th>\n      <td>1410133195000</td>\n      <td>e1b68855d02c895c939b61e3fb83d0e1a40c44182cf505...</td>\n      <td>[{'input_script_bytes': b'H0E\\x02 ?\\t\\x0e+\\xd9...</td>\n      <td>[{'output_satoshis': 197632, 'output_script_by...</td>\n      <td>00000000000000000743a67fe208c995c8918a83b81d69...</td>\n      <td>000000000000000014f8a4b3abc0a1eba2b1460805afe7...</td>\n      <td>3af85de9391c3a27ea46049be1fd7de44623fec4c99a02...</td>\n      <td>3750123065</td>\n      <td>2</td>\n      <td>1178068702</td>\n      <td>None</td>\n    </tr>\n    <tr>\n      <th>4</th>\n      <td>1509387183000</td>\n      <td>b5dbacc812768bfbb5d6a71da633cac454e6830797bb28...</td>\n      <td>[{'input_script_bytes': b\"G0D\\x02 \\x01p\\xd3e\\x...</td>\n      <td>[{'output_satoshis': 10551000, 'output_script_...</td>\n      <td>00000000000000000043c0728b076726787acb9a2283fd...</td>\n      <td>000000000000000000875054b5c74d58e77f1368ec627f...</td>\n      <td>4027faf0c0f78b0f8e904ab36350d5951ccb35ca5161ca...</td>\n      <td>3682154252</td>\n      <td>536870912</td>\n      <td>62399945525</td>\n      <td>None</td>\n    </tr>\n  </tbody>\n</table>\n</div>"
          },
          "metadata": {}
        }
      ]
    },
    {
      "metadata": {
        "_cell_guid": "b1076dfc-b9ad-4769-8c92-a6c4dae69d19",
        "_uuid": "8f2839f25d086af736a60e9eeb907d3b93b6e0e5"
      },
      "cell_type": "markdown",
      "source": "Then write the code to answer the questions below.\n\n#### Note\nThis dataset is bigger than the ones we've used previously, so your queries will be more than 1 Gigabyte. You can still run them by setting the \"max_gb_scanned\" argument in the `query_to_pandas_safe()` function to be large enough to run your query, or by using the `query_to_pandas()` function instead.\n\n## Questions\n#### 1) How many Bitcoin transactions were made each day in 2017?\n* You can use the \"timestamp\" column from the \"transactions\" table to answer this question. You can go back to the [order-by tutorial](https://www.kaggle.com/dansbecker/order-by) for more information on timestamps."
    },
    {
      "metadata": {
        "_cell_guid": "79c7e3d0-c299-4dcb-8224-4455121ee9b0",
        "_uuid": "d629ff2d2480ee46fbb7e2d37f6b5fab8052498a",
        "trusted": true
      },
      "cell_type": "code",
      "source": "# Your Code Here\nquery = \"\"\" WITH time AS \n            (\n                SELECT TIMESTAMP_MILLIS(timestamp) AS trans_time,\n                    transaction_id\n                FROM `bigquery-public-data.bitcoin_blockchain.transactions`\n            )\n            SELECT COUNT(transaction_id) AS transactions,\n                EXTRACT(DAY FROM trans_time) AS day\n            FROM time\n            GROUP BY day \n            ORDER BY day\n        \"\"\"\n\n# note that max_gb_scanned is set to 21, rather than 1\ntransactions_per_month = bitcoin_blockchain.query_to_pandas_safe(query, max_gb_scanned=24)\ntransactions_per_month.head()",
      "execution_count": 10,
      "outputs": [
        {
          "output_type": "execute_result",
          "execution_count": 10,
          "data": {
            "text/plain": "   transactions  day\n0      11020279    1\n1      11241089    2\n2      11305627    3\n3      11297549    4\n4      11422834    5",
            "text/html": "<div>\n<style scoped>\n    .dataframe tbody tr th:only-of-type {\n        vertical-align: middle;\n    }\n\n    .dataframe tbody tr th {\n        vertical-align: top;\n    }\n\n    .dataframe thead th {\n        text-align: right;\n    }\n</style>\n<table border=\"1\" class=\"dataframe\">\n  <thead>\n    <tr style=\"text-align: right;\">\n      <th></th>\n      <th>transactions</th>\n      <th>day</th>\n    </tr>\n  </thead>\n  <tbody>\n    <tr>\n      <th>0</th>\n      <td>11020279</td>\n      <td>1</td>\n    </tr>\n    <tr>\n      <th>1</th>\n      <td>11241089</td>\n      <td>2</td>\n    </tr>\n    <tr>\n      <th>2</th>\n      <td>11305627</td>\n      <td>3</td>\n    </tr>\n    <tr>\n      <th>3</th>\n      <td>11297549</td>\n      <td>4</td>\n    </tr>\n    <tr>\n      <th>4</th>\n      <td>11422834</td>\n      <td>5</td>\n    </tr>\n  </tbody>\n</table>\n</div>"
          },
          "metadata": {}
        }
      ]
    },
    {
      "metadata": {
        "_cell_guid": "c6fc9554-1290-4940-9c03-2929eb17613e",
        "_uuid": "6f5acc3073bb99100b5e1fd8f1111b8a75c19777"
      },
      "cell_type": "markdown",
      "source": "\n#### 2) How many transactions are associated with each merkle root?\n* You can use the \"merkle_root\" and \"transaction_id\" columns in the \"transactions\" table to answer this question. "
    },
    {
      "metadata": {
        "_cell_guid": "18629270-096f-412b-a3de-c863388d9f8f",
        "_uuid": "959b10f407dbd9f80ab1b5d33ed9c8eaafa6b30c",
        "trusted": true
      },
      "cell_type": "code",
      "source": "# Your Code Here\n\nquery = \"\"\" SELECT COUNT(transaction_id) AS transactions, merkle_root\n            FROM `bigquery-public-data.bitcoin_blockchain.transactions`\n            GROUP BY merkle_root\n            ORDER BY transactions DESC\n            \n        \"\"\"\n\n# note that max_gb_scanned is set to 21, rather than 1\ntransactions_per_month = bitcoin_blockchain.query_to_pandas_safe(query, max_gb_scanned=42)\ntransactions_per_month.head()",
      "execution_count": null,
      "outputs": []
    },
    {
      "metadata": {
        "_cell_guid": "5a6f5219-6a0c-4446-8bd6-7f2a1772332b",
        "_uuid": "fa432e43e8dec711fad0b8b7af37f2e4db1a3079"
      },
      "cell_type": "markdown",
      "source": "---\n# Keep Going\n[Click here](https://www.kaggle.com/dansbecker/joining-data) to learn how to combine multiple data sources with the JOIN command.\n\n# Feedback\nBring any questions or feedback to the [Learn Discussion Forum](kaggle.com/learn-forum).\n\n----\n\n*This tutorial is part of the [SQL Series](https://www.kaggle.com/learn/sql) on Kaggle Learn.*"
    }
  ],
  "metadata": {
    "kernelspec": {
      "display_name": "Python 3",
      "language": "python",
      "name": "python3"
    },
    "language_info": {
      "name": "python",
      "version": "3.6.6",
      "mimetype": "text/x-python",
      "codemirror_mode": {
        "name": "ipython",
        "version": 3
      },
      "pygments_lexer": "ipython3",
      "nbconvert_exporter": "python",
      "file_extension": ".py"
    }
  },
  "nbformat": 4,
  "nbformat_minor": 1
}