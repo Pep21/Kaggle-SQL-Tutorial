{
  "cells": [
    {
      "metadata": {
        "_cell_guid": "0d7c72bb-92fc-4dd5-aaf1-3f09d5596f70",
        "_uuid": "d806df7cf446e426d20f6f22c0a8f0f3dbc2d01e"
      },
      "cell_type": "markdown",
      "source": "# Get Started\n\nAfter forking this notebook, run the code in the following cell:"
    },
    {
      "metadata": {
        "_uuid": "e8e05de6187c3fc6f4bbd50f14db639b62a51bf1",
        "_cell_guid": "dbc3a790-b44a-4bea-a04a-b68fa2fed4c0",
        "trusted": true
      },
      "cell_type": "code",
      "source": "# import package with helper functions \nimport bq_helper\n\n# create a helper object for this dataset\nhacker_news = bq_helper.BigQueryHelper(active_project=\"bigquery-public-data\",\n                                   dataset_name=\"hacker_news\")\n\n# print the first couple rows of the \"comments\" table\n#hacker_news.list_tables()\n#'comments', 'full', 'full_201510', 'stories']\nhacker_news.head(\"full\")",
      "execution_count": 20,
      "outputs": [
        {
          "output_type": "execute_result",
          "execution_count": 20,
          "data": {
            "text/plain": "            by score        time   ...   descendants        id ranking\n0  user5994461  None  1489944124   ...          None  13908369    None\n1    angersock  None  1456372120   ...          None  11172250    None\n2        md2be  None  1516292547   ...          None  16178282    None\n3       radley  None  1214947811   ...          None    233562    None\n4      pmontra  None  1480694180   ...          None  13089613    None\n\n[5 rows x 14 columns]",
            "text/html": "<div>\n<style scoped>\n    .dataframe tbody tr th:only-of-type {\n        vertical-align: middle;\n    }\n\n    .dataframe tbody tr th {\n        vertical-align: top;\n    }\n\n    .dataframe thead th {\n        text-align: right;\n    }\n</style>\n<table border=\"1\" class=\"dataframe\">\n  <thead>\n    <tr style=\"text-align: right;\">\n      <th></th>\n      <th>by</th>\n      <th>score</th>\n      <th>time</th>\n      <th>timestamp</th>\n      <th>title</th>\n      <th>type</th>\n      <th>url</th>\n      <th>text</th>\n      <th>parent</th>\n      <th>deleted</th>\n      <th>dead</th>\n      <th>descendants</th>\n      <th>id</th>\n      <th>ranking</th>\n    </tr>\n  </thead>\n  <tbody>\n    <tr>\n      <th>0</th>\n      <td>user5994461</td>\n      <td>None</td>\n      <td>1489944124</td>\n      <td>2017-03-19 17:22:04+00:00</td>\n      <td></td>\n      <td>comment</td>\n      <td></td>\n      <td>&amp;gt; I don&amp;#x27;t know if this is still an are...</td>\n      <td>13907740</td>\n      <td>None</td>\n      <td>None</td>\n      <td>None</td>\n      <td>13908369</td>\n      <td>None</td>\n    </tr>\n    <tr>\n      <th>1</th>\n      <td>angersock</td>\n      <td>None</td>\n      <td>1456372120</td>\n      <td>2016-02-25 03:48:40+00:00</td>\n      <td></td>\n      <td>comment</td>\n      <td></td>\n      <td>I respectfully disagree that it is a petty sma...</td>\n      <td>11171029</td>\n      <td>None</td>\n      <td>None</td>\n      <td>None</td>\n      <td>11172250</td>\n      <td>None</td>\n    </tr>\n    <tr>\n      <th>2</th>\n      <td>md2be</td>\n      <td>None</td>\n      <td>1516292547</td>\n      <td>2018-01-18 16:22:27+00:00</td>\n      <td></td>\n      <td>comment</td>\n      <td></td>\n      <td>Imagine if Amazon single handedly turned  Stat...</td>\n      <td>16177113</td>\n      <td>None</td>\n      <td>None</td>\n      <td>None</td>\n      <td>16178282</td>\n      <td>None</td>\n    </tr>\n    <tr>\n      <th>3</th>\n      <td>radley</td>\n      <td>None</td>\n      <td>1214947811</td>\n      <td>2008-07-01 21:30:11+00:00</td>\n      <td></td>\n      <td>comment</td>\n      <td></td>\n      <td>&lt;a href=\"http://www.strombergschickens.com/pro...</td>\n      <td>233163</td>\n      <td>None</td>\n      <td>None</td>\n      <td>None</td>\n      <td>233562</td>\n      <td>None</td>\n    </tr>\n    <tr>\n      <th>4</th>\n      <td>pmontra</td>\n      <td>None</td>\n      <td>1480694180</td>\n      <td>2016-12-02 15:56:20+00:00</td>\n      <td></td>\n      <td>comment</td>\n      <td></td>\n      <td>No because it&amp;#x27;s statically typed, too muc...</td>\n      <td>13088709</td>\n      <td>None</td>\n      <td>None</td>\n      <td>None</td>\n      <td>13089613</td>\n      <td>None</td>\n    </tr>\n  </tbody>\n</table>\n</div>"
          },
          "metadata": {}
        }
      ]
    },
    {
      "metadata": {
        "_cell_guid": "b1076dfc-b9ad-4769-8c92-a6c4dae69d19",
        "_uuid": "8f2839f25d086af736a60e9eeb907d3b93b6e0e5"
      },
      "cell_type": "markdown",
      "source": "# Question\nUsing the Hacker News dataset in BigQuery, answer the following questions:\n\n#### 1) How many stories (use the \"id\" column) are there of each type (in the \"type\" column) in the full table?"
    },
    {
      "metadata": {
        "_cell_guid": "79c7e3d0-c299-4dcb-8224-4455121ee9b0",
        "_uuid": "d629ff2d2480ee46fbb7e2d37f6b5fab8052498a",
        "trusted": true
      },
      "cell_type": "code",
      "source": "# Your Code Here\nquery=\"\"\"SELECT COUNT(id) AS tot_hist, type \nFROM `bigquery-public-data.hacker_news.full`\nGROUP BY type\n\n\"\"\"\ntype_stories = hacker_news.query_to_pandas_safe(query)\nprint(type_stories.head())",
      "execution_count": 13,
      "outputs": [
        {
          "output_type": "stream",
          "text": "   tot_hist     type\n0  15233122  comment\n1     11981  pollopt\n2   3114472    story\n3     11303      job\n4      1754     poll\n",
          "name": "stdout"
        }
      ]
    },
    {
      "metadata": {
        "_cell_guid": "1b5237c2-b956-41fe-80f5-4d185e40a126",
        "_uuid": "eb321bab8e85853cbff7c4e70fdc631aa587617e"
      },
      "cell_type": "markdown",
      "source": "#### 2) How many comments have been deleted? (If a comment was deleted the \"deleted\" column in the comments table will have the value \"True\".)"
    },
    {
      "metadata": {
        "_uuid": "940a57fa95be21d02981f268d84b684304b86593",
        "_cell_guid": "17c1d2f3-655a-4c05-985f-4f1f345fe368",
        "trusted": true
      },
      "cell_type": "code",
      "source": "# Your Code Here\nquery=\"\"\"SELECT COUNT(id) AS deleted_comments \nFROM `bigquery-public-data.hacker_news.comments`\nGROUP BY deleted\nHAVING deleted = True\n\n\"\"\"\ntype_stories = hacker_news.query_to_pandas_safe(query)\nprint(type_stories.head())",
      "execution_count": 19,
      "outputs": [
        {
          "output_type": "stream",
          "text": "   deleted_comments\n0            227736\n",
          "name": "stdout"
        }
      ]
    },
    {
      "metadata": {
        "_cell_guid": "5f8c5e7b-853d-45ec-ab93-092c47e45971",
        "_uuid": "dd5691b5813a4fd68a6ccb34d97e6d693458383d"
      },
      "cell_type": "markdown",
      "source": "#### 3) Modify one of the queries you wrote above to use a different aggregate function.\nYou can read about aggregate functions other than COUNT() **[in these docs](https://cloud.google.com/bigquery/docs/reference/standard-sql/functions-and-operators#aggregate-functions)**"
    },
    {
      "metadata": {
        "collapsed": true,
        "_uuid": "587435c6647dc9c86d4c47a224ded128bd799eee",
        "_cell_guid": "02eabdfe-fa24-41b0-a94a-fd0e9aba8172",
        "trusted": false
      },
      "cell_type": "code",
      "source": "",
      "execution_count": null,
      "outputs": []
    },
    {
      "metadata": {
        "_cell_guid": "827df875-f5ce-4435-9b6e-3fd44b64c69c",
        "_uuid": "fc08b831741d6e9047b43fcf744f4701527a2ca7"
      },
      "cell_type": "markdown",
      "source": "---\n\n# Keep Going\n[Click here](https://www.kaggle.com/dansbecker/order-by) to move on and learn about the ORDER BY clause.\n\n# Feedback\nBring any questions or feedback to the [Learn Discussion Forum](kaggle.com/learn-forum).\n\n----\n\n*This exercise is part of the [SQL Series](https://www.kaggle.com/learn/sql) on Kaggle Learn.*"
    }
  ],
  "metadata": {
    "kernelspec": {
      "display_name": "Python 3",
      "language": "python",
      "name": "python3"
    },
    "language_info": {
      "name": "python",
      "version": "3.6.6",
      "mimetype": "text/x-python",
      "codemirror_mode": {
        "name": "ipython",
        "version": 3
      },
      "pygments_lexer": "ipython3",
      "nbconvert_exporter": "python",
      "file_extension": ".py"
    }
  },
  "nbformat": 4,
  "nbformat_minor": 1
}